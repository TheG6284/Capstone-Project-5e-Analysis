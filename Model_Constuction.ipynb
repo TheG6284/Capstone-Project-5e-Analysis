{
 "cells": [
  {
   "cell_type": "markdown",
   "id": "ae2457d2-aadf-475e-9d18-cc28ec7c233a",
   "metadata": {},
   "source": [
    "## Imports and staging Data"
   ]
  },
  {
   "cell_type": "code",
   "execution_count": 31,
   "id": "bc88206b-a38e-490a-b474-3b49edc2923c",
   "metadata": {},
   "outputs": [
    {
     "name": "stdout",
     "output_type": "stream",
     "text": [
      "<class 'pandas.core.frame.DataFrame'>\n",
      "RangeIndex: 334 entries, 0 to 333\n",
      "Data columns (total 12 columns):\n",
      " #   Column  Non-Null Count  Dtype  \n",
      "---  ------  --------------  -----  \n",
      " 0   Index   334 non-null    object \n",
      " 1   Type    334 non-null    int64  \n",
      " 2   HP      334 non-null    int64  \n",
      " 3   AC      334 non-null    int64  \n",
      " 4   Size    334 non-null    int64  \n",
      " 5   STR     334 non-null    int64  \n",
      " 6   DEX     334 non-null    int64  \n",
      " 7   CON     334 non-null    int64  \n",
      " 8   INT     334 non-null    int64  \n",
      " 9   WIS     334 non-null    int64  \n",
      " 10  CHAR    334 non-null    int64  \n",
      " 11  CR      334 non-null    float64\n",
      "dtypes: float64(1), int64(10), object(1)\n",
      "memory usage: 31.4+ KB\n"
     ]
    }
   ],
   "source": [
    "import pandas as pd # data processing, CSV file I/O (e.g. pd.read_csv)\n",
    "import numpy as np\n",
    "import seaborn as sns\n",
    "from sklearn.model_selection import train_test_split\n",
    "\n",
    "df = pd.DataFrame(pd.read_csv('MonsterData.csv'))\n",
    "df.info()"
   ]
  },
  {
   "cell_type": "markdown",
   "id": "e575e8b7-168d-4b03-bd4f-dc8d9e0f686a",
   "metadata": {},
   "source": [
    "## Train/Test Split"
   ]
  },
  {
   "cell_type": "code",
   "execution_count": 9,
   "id": "97e69a83-6445-4737-b0bb-9aae5bb10981",
   "metadata": {},
   "outputs": [
    {
     "name": "stdout",
     "output_type": "stream",
     "text": [
      "Train size:  267 Test size:  67\n"
     ]
    }
   ],
   "source": [
    "train_set, test_set = train_test_split(df, test_size=0.2, random_state=123)\n",
    "print('Train size: ', len(train_set), 'Test size: ', len(test_set))"
   ]
  },
  {
   "cell_type": "markdown",
   "id": "f0b55aae-ae4f-42cc-aa0b-0737a0f5aa66",
   "metadata": {},
   "source": [
    "## linear Regression"
   ]
  },
  {
   "cell_type": "code",
   "execution_count": 10,
   "id": "4ae7c737-e62e-49ed-9234-a19001dae616",
   "metadata": {},
   "outputs": [
    {
     "name": "stdout",
     "output_type": "stream",
     "text": [
      "Results for linear regression on training data\n",
      " Default settings\n",
      "Internal parameters:\n",
      " Bias is  [ 13.33251739 -23.59273191   1.04885891  15.49771412   8.4060631\n",
      "  10.36010321  11.5106604   10.28701487]\n",
      " Coefficients [[-9.78854541e-02  4.39893129e-01 -2.23797279e-01]\n",
      " [-1.28794387e+00  1.40474719e+01  1.46997055e+01]\n",
      " [-1.93283602e-01  3.00409088e-01  4.05670302e+00]\n",
      " [ 1.49012436e-01  1.80548530e-01 -1.33915790e+00]\n",
      " [-3.39660118e-02  4.74388525e-01  1.39252902e+00]\n",
      " [-1.98810015e-01  7.97708953e-01 -1.39840578e+00]\n",
      " [-1.06932654e-02  3.16939073e-01 -3.41920423e-01]\n",
      " [-1.41550173e-01  8.02461325e-01 -9.37202149e-01]]\n",
      " Score 0.5730921062242141\n",
      "MAE is  4.319078690962247\n",
      "RMSE is  11.042377938826878\n",
      "MSE is  121.93411054389053\n",
      "R^2  0.5730921062242141\n",
      "\n",
      "Results for linear regression on test data\n",
      "MAE is  4.500709472905756\n",
      "RMSE is  11.62550157888248\n",
      "MSE is  135.15228696059904\n",
      "R^2  0.5304422975850371\n"
     ]
    }
   ],
   "source": [
    "from sklearn.linear_model import LinearRegression\n",
    "from sklearn.metrics import mean_absolute_error\n",
    "from sklearn.metrics import mean_squared_error\n",
    "from sklearn.metrics import r2_score\n",
    "\n",
    "X = train_set[['Type','CR', 'Size']]\n",
    "y = train_set[['AC', 'HP', 'STR', 'DEX', 'CON', 'INT', 'WIS', 'CHAR']]\n",
    "X_test = test_set[['Type','CR', 'Size']]\n",
    "y_test = test_set[['AC', 'HP', 'STR', 'DEX', 'CON', 'INT', 'WIS', 'CHAR']]\n",
    "\n",
    "lr_model = LinearRegression()\n",
    "lr_model.fit(X,y)\n",
    "\n",
    "y_pred = lr_model.predict(X)\n",
    "print('Results for linear regression on training data')\n",
    "print(' Default settings')\n",
    "print('Internal parameters:')\n",
    "print(' Bias is ', lr_model.intercept_)\n",
    "print(' Coefficients', lr_model.coef_)\n",
    "print(' Score', lr_model.score(X,y))\n",
    "print('MAE is ', mean_absolute_error(y, y_pred))\n",
    "print('RMSE is ', np.sqrt(mean_squared_error(y, y_pred)))\n",
    "print('MSE is ', mean_squared_error(y, y_pred))\n",
    "print('R^2 ', r2_score(y,y_pred))\n",
    "\n",
    "y_test_pred = lr_model.predict(X_test)\n",
    "print()\n",
    "print('Results for linear regression on test data')\n",
    "print('MAE is ', mean_absolute_error(y_test, y_test_pred))\n",
    "print('RMSE is ', np.sqrt(mean_squared_error(y_test, \n",
    "y_test_pred)))\n",
    "print('MSE is ', mean_squared_error(y_test, y_test_pred))\n",
    "print('R^2 ', r2_score(y_test,y_test_pred))"
   ]
  },
  {
   "cell_type": "markdown",
   "id": "752342cb-e8a9-4f2f-b5a7-3542924757ce",
   "metadata": {},
   "source": [
    "## Elastic net polynomial regression"
   ]
  },
  {
   "cell_type": "code",
   "execution_count": 11,
   "id": "7cc13053-239e-4669-8853-5fbd8a16b1f4",
   "metadata": {},
   "outputs": [
    {
     "name": "stderr",
     "output_type": "stream",
     "text": [
      "C:\\ProgramData\\Miniconda3\\lib\\site-packages\\sklearn\\linear_model\\_coordinate_descent.py:648: ConvergenceWarning: Objective did not converge. You might want to increase the number of iterations, check the scale of the features or consider increasing regularisation. Duality gap: 4.373e+02, tolerance: 2.811e-01\n",
      "  model = cd_fast.enet_coordinate_descent(\n",
      "C:\\ProgramData\\Miniconda3\\lib\\site-packages\\sklearn\\linear_model\\_coordinate_descent.py:648: ConvergenceWarning: Objective did not converge. You might want to increase the number of iterations, check the scale of the features or consider increasing regularisation. Duality gap: 2.900e+04, tolerance: 2.698e+02\n",
      "  model = cd_fast.enet_coordinate_descent(\n",
      "C:\\ProgramData\\Miniconda3\\lib\\site-packages\\sklearn\\linear_model\\_coordinate_descent.py:648: ConvergenceWarning: Objective did not converge. You might want to increase the number of iterations, check the scale of the features or consider increasing regularisation. Duality gap: 8.295e+02, tolerance: 1.228e+00\n",
      "  model = cd_fast.enet_coordinate_descent(\n",
      "C:\\ProgramData\\Miniconda3\\lib\\site-packages\\sklearn\\linear_model\\_coordinate_descent.py:648: ConvergenceWarning: Objective did not converge. You might want to increase the number of iterations, check the scale of the features or consider increasing regularisation. Duality gap: 9.102e+02, tolerance: 2.554e-01\n",
      "  model = cd_fast.enet_coordinate_descent(\n",
      "C:\\ProgramData\\Miniconda3\\lib\\site-packages\\sklearn\\linear_model\\_coordinate_descent.py:648: ConvergenceWarning: Objective did not converge. You might want to increase the number of iterations, check the scale of the features or consider increasing regularisation. Duality gap: 3.600e+02, tolerance: 5.443e-01\n",
      "  model = cd_fast.enet_coordinate_descent(\n",
      "C:\\ProgramData\\Miniconda3\\lib\\site-packages\\sklearn\\linear_model\\_coordinate_descent.py:648: ConvergenceWarning: Objective did not converge. You might want to increase the number of iterations, check the scale of the features or consider increasing regularisation. Duality gap: 9.033e+02, tolerance: 8.879e-01\n",
      "  model = cd_fast.enet_coordinate_descent(\n"
     ]
    },
    {
     "name": "stdout",
     "output_type": "stream",
     "text": [
      "Results for linear regression on training data\n",
      "Polynomial regression with degree  10\n",
      " Default settings\n",
      "Internal parameters:\n",
      " Bias is  [12.04790535 14.2336336   7.75389307 12.74829479 11.41200167 10.16145282\n",
      " 10.34517454  9.56541069]\n",
      " Coefficients [[ 0.00000000e+00 -0.00000000e+00  0.00000000e+00 ...  1.07492004e-09\n",
      "  -3.91929978e-09  3.53002979e-10]\n",
      " [-3.87815486e-01  9.33096719e-01  0.00000000e+00 ... -5.31237476e-08\n",
      "  -3.04963313e-08  1.00368751e-06]\n",
      " [-0.00000000e+00  0.00000000e+00  0.00000000e+00 ... -1.97874409e-09\n",
      "   1.77383297e-09  1.98328144e-08]\n",
      " ...\n",
      " [-0.00000000e+00  0.00000000e+00  0.00000000e+00 ... -2.28432931e-09\n",
      "  -1.32667357e-08  9.72633800e-08]\n",
      " [-0.00000000e+00  0.00000000e+00  0.00000000e+00 ...  1.47947347e-09\n",
      "   7.69867194e-10  4.13029627e-08]\n",
      " [-0.00000000e+00 -0.00000000e+00  0.00000000e+00 ... -5.40478852e-09\n",
      "  -1.00373060e-08  9.10389149e-08]]\n",
      " Score 0.7267626699985212\n",
      "MAE is  2.6990139328733913\n",
      "RMSE is  5.538820656223631\n",
      "MSE is  30.678534261809574\n",
      "R^2  0.7267626699985212\n",
      "Results for linear regression on training data\n",
      "Polynomial regression with degree  10\n",
      " Default settings\n",
      "Internal parameters:\n",
      " Bias is  [12.04790535 14.2336336   7.75389307 12.74829479 11.41200167 10.16145282\n",
      " 10.34517454  9.56541069]\n",
      " Coefficients [[ 0.00000000e+00 -0.00000000e+00  0.00000000e+00 ...  1.07492004e-09\n",
      "  -3.91929978e-09  3.53002979e-10]\n",
      " [-3.87815486e-01  9.33096719e-01  0.00000000e+00 ... -5.31237476e-08\n",
      "  -3.04963313e-08  1.00368751e-06]\n",
      " [-0.00000000e+00  0.00000000e+00  0.00000000e+00 ... -1.97874409e-09\n",
      "   1.77383297e-09  1.98328144e-08]\n",
      " ...\n",
      " [-0.00000000e+00  0.00000000e+00  0.00000000e+00 ... -2.28432931e-09\n",
      "  -1.32667357e-08  9.72633800e-08]\n",
      " [-0.00000000e+00  0.00000000e+00  0.00000000e+00 ...  1.47947347e-09\n",
      "   7.69867194e-10  4.13029627e-08]\n",
      " [-0.00000000e+00 -0.00000000e+00  0.00000000e+00 ... -5.40478852e-09\n",
      "  -1.00373060e-08  9.10389149e-08]]\n",
      "MAE is  3.543255814005029\n",
      "RMSE is  8.456441297470667\n",
      "MSE is  71.51139941756738\n",
      "R^2  0.5808100842944135\n"
     ]
    },
    {
     "name": "stderr",
     "output_type": "stream",
     "text": [
      "C:\\ProgramData\\Miniconda3\\lib\\site-packages\\sklearn\\linear_model\\_coordinate_descent.py:648: ConvergenceWarning: Objective did not converge. You might want to increase the number of iterations, check the scale of the features or consider increasing regularisation. Duality gap: 5.575e+02, tolerance: 2.292e-01\n",
      "  model = cd_fast.enet_coordinate_descent(\n",
      "C:\\ProgramData\\Miniconda3\\lib\\site-packages\\sklearn\\linear_model\\_coordinate_descent.py:648: ConvergenceWarning: Objective did not converge. You might want to increase the number of iterations, check the scale of the features or consider increasing regularisation. Duality gap: 1.145e+03, tolerance: 9.139e-01\n",
      "  model = cd_fast.enet_coordinate_descent(\n"
     ]
    }
   ],
   "source": [
    "from sklearn.linear_model import ElasticNet\n",
    "from sklearn.preprocessing import PolynomialFeatures\n",
    "power = 10\n",
    "poly_process = PolynomialFeatures(degree=power, include_bias=False)\n",
    "\n",
    "X = train_set[['Type','CR', 'Size']]\n",
    "y = train_set[['AC', 'HP', 'STR', 'DEX', 'CON', 'INT', 'WIS', 'CHAR']]\n",
    "X_poly = poly_process.fit_transform(X)\n",
    "X_test = test_set[['Type','CR', 'Size']]\n",
    "y_test = test_set[['AC', 'HP', 'STR', 'DEX', 'CON', 'INT', 'WIS', 'CHAR']]\n",
    "X_poly_test = poly_process.fit_transform(X_test)\n",
    "\n",
    "reg_lr_model = ElasticNet(alpha=0.5, l1_ratio=0.5)\n",
    "reg_lr_model.fit(X_poly,y)\n",
    "y_pred = reg_lr_model.predict(X_poly)\n",
    "print('Results for linear regression on training data')\n",
    "print('Polynomial regression with degree ', power)\n",
    "print(' Default settings')\n",
    "print('Internal parameters:')\n",
    "print(' Bias is ', reg_lr_model.intercept_)\n",
    "print(' Coefficients', reg_lr_model.coef_)\n",
    "print(' Score', reg_lr_model.score(X_poly,y))\n",
    "print('MAE is ', mean_absolute_error(y, y_pred))\n",
    "print('RMSE is ', np.sqrt(mean_squared_error(y, y_pred)))\n",
    "print('MSE is ', mean_squared_error(y, y_pred))\n",
    "print('R^2 ', r2_score(y,y_pred))\n",
    "\n",
    "\n",
    "y_test_pred = reg_lr_model.predict(X_poly_test)\n",
    "print('Results for linear regression on training data')\n",
    "print('Polynomial regression with degree ', power)\n",
    "print(' Default settings')\n",
    "print('Internal parameters:')\n",
    "print(' Bias is ', reg_lr_model.intercept_)\n",
    "print(' Coefficients', reg_lr_model.coef_)\n",
    "\n",
    "print('MAE is ', mean_absolute_error(y_test, y_test_pred))\n",
    "print('RMSE is ', np.sqrt(mean_squared_error(y_test, y_test_pred)))\n",
    "print('MSE is ', mean_squared_error(y_test, y_test_pred))\n",
    "print('R^2 ', r2_score(y_test,y_test_pred))\n"
   ]
  },
  {
   "cell_type": "markdown",
   "id": "b571d6b6-be17-49dc-9d41-ed834a904687",
   "metadata": {},
   "source": [
    "## Decsion Tree Classifier"
   ]
  },
  {
   "cell_type": "code",
   "execution_count": 12,
   "id": "e189117e-4539-4801-95e3-c29ee5930252",
   "metadata": {},
   "outputs": [
    {
     "name": "stdout",
     "output_type": "stream",
     "text": [
      "MAE:  1.1015917602996255\n",
      "RMSE:  3.9637283360615645\n",
      "MSE:  15.711142322097379\n",
      "R^2:  0.8530573208446104\n",
      "Test Data Results\n",
      " Default settings\n",
      "MAE is  3.3861940298507465\n",
      "RMSE is  7.4826914704397005\n",
      "MSE is  55.990671641791046\n",
      "R^2  0.3970621249518297\n"
     ]
    }
   ],
   "source": [
    "from sklearn.tree import DecisionTreeClassifier\n",
    "from sklearn.metrics import confusion_matrix\n",
    "from sklearn.metrics import accuracy_score, f1_score\n",
    "from sklearn.metrics import precision_score, recall_score\n",
    "\n",
    "\n",
    "\n",
    "\n",
    "X = train_set[['Type','CR', 'Size']]\n",
    "y = train_set[['AC', 'HP', 'STR', 'DEX', 'CON', 'INT', 'WIS', 'CHAR']]\n",
    "\n",
    "X_test = test_set[['Type','CR', 'Size']]\n",
    "y_test = test_set[['AC', 'HP', 'STR', 'DEX', 'CON', 'INT', 'WIS', 'CHAR']]\n",
    "\n",
    "tree_model = DecisionTreeClassifier()\n",
    "tree_model.fit(X,y)\n",
    "\n",
    "y_pred = tree_model.predict(X)\n",
    "\n",
    "\n",
    "print('MAE: ', mean_absolute_error(y, y_pred))\n",
    "print('RMSE: ', np.sqrt(mean_squared_error(y, y_pred)))\n",
    "print('MSE: ', mean_squared_error(y, y_pred))\n",
    "print('R^2: ', r2_score(y,y_pred))\n",
    "\n",
    "y_test_pred = tree_model.predict(X_test)\n",
    "print('Test Data Results')\n",
    "print(' Default settings')\n",
    "\n",
    "print('MAE is ', mean_absolute_error(y_test, y_test_pred))\n",
    "print('RMSE is ', np.sqrt(mean_squared_error(y_test, y_test_pred)))\n",
    "print('MSE is ', mean_squared_error(y_test, y_test_pred))\n",
    "print('R^2 ', r2_score(y_test,y_test_pred))\n",
    "\n"
   ]
  },
  {
   "cell_type": "markdown",
   "id": "2e652ad3-0ed1-4d95-a4b4-ae132175e37f",
   "metadata": {},
   "source": [
    "## Random Forest"
   ]
  },
  {
   "cell_type": "code",
   "execution_count": 17,
   "id": "9cfb8acd-b97e-452c-8ad3-889a72eb244a",
   "metadata": {},
   "outputs": [
    {
     "name": "stdout",
     "output_type": "stream",
     "text": [
      "MAE:  1.0557116104868913\n",
      "RMSE:  3.841730746823122\n",
      "MSE:  14.758895131086144\n",
      "R^2:  0.8563989951372764\n",
      "Test Data Results\n",
      " Default settings\n",
      "MAE:  3.4365671641791042\n",
      "RMSE:  8.223101786131231\n",
      "MSE:  67.61940298507463\n",
      "R^2:  0.41652528183778087\n"
     ]
    }
   ],
   "source": [
    "from sklearn.ensemble import RandomForestClassifier\n",
    "\n",
    "\n",
    "X = train_set[['Type','CR', 'Size']]\n",
    "y = train_set[['AC', 'HP', 'STR', 'DEX', 'CON', 'INT', 'WIS', 'CHAR']]\n",
    "\n",
    "X_test = test_set[['Type','CR', 'Size']]\n",
    "y_test = test_set[['AC', 'HP', 'STR', 'DEX', 'CON', 'INT', 'WIS', 'CHAR']]\n",
    "\n",
    "rf_model = RandomForestClassifier(n_estimators=150)\n",
    "rf_model.fit(X,y)\n",
    "\n",
    "y_pred = rf_model.predict(X)\n",
    "\n",
    "\n",
    "print('MAE: ', mean_absolute_error(y, y_pred))\n",
    "print('RMSE: ', np.sqrt(mean_squared_error(y, y_pred)))\n",
    "print('MSE: ', mean_squared_error(y, y_pred))\n",
    "print('R^2: ', r2_score(y,y_pred))\n",
    "\n",
    "y_test_pred = rf_model.predict(X_test)\n",
    "\n",
    "print('Test Data Results')\n",
    "print(' Default settings')\n",
    "\n",
    "print('MAE: ', mean_absolute_error(y_test, y_test_pred))\n",
    "print('RMSE: ', np.sqrt(mean_squared_error(y_test, y_test_pred)))\n",
    "print('MSE: ', mean_squared_error(y_test, y_test_pred))\n",
    "print('R^2: ', r2_score(y_test,y_test_pred))"
   ]
  },
  {
   "cell_type": "markdown",
   "id": "cd545a29-76a5-4efb-8e48-a2cfc896f6f4",
   "metadata": {},
   "source": [
    "## K Nearest neighbor"
   ]
  },
  {
   "cell_type": "code",
   "execution_count": 14,
   "id": "30b79ba8-eee4-4021-85a5-4f431a55b538",
   "metadata": {},
   "outputs": [
    {
     "name": "stdout",
     "output_type": "stream",
     "text": [
      "MAE:  3.155430711610487\n",
      "RMSE:  10.486481399155364\n",
      "MSE:  109.96629213483146\n",
      "R^2:  0.5813021446922224\n",
      "Test Data Results\n",
      " Default settings\n",
      "MAE is  4.100746268656716\n",
      "RMSE is  9.895724992860723\n",
      "MSE is  97.92537313432835\n",
      "R^2  0.29249469502773556\n"
     ]
    }
   ],
   "source": [
    "from sklearn.neighbors import KNeighborsClassifier\n",
    "\n",
    "X = train_set[['Type','CR', 'Size']]\n",
    "y = train_set[['AC', 'HP', 'STR', 'DEX', 'CON', 'INT', 'WIS', 'CHAR']]\n",
    "\n",
    "X_test = test_set[['Type','CR', 'Size']]\n",
    "y_test = test_set[['AC', 'HP', 'STR', 'DEX', 'CON', 'INT', 'WIS', 'CHAR']]\n",
    "\n",
    "knn = KNeighborsClassifier(n_neighbors = 3)\n",
    "knn.fit(X,y)\n",
    "\n",
    "y_pred = knn.predict(X)\n",
    "\n",
    "\n",
    "print('MAE: ', mean_absolute_error(y, y_pred))\n",
    "print('RMSE: ', np.sqrt(mean_squared_error(y, y_pred)))\n",
    "print('MSE: ', mean_squared_error(y, y_pred))\n",
    "print('R^2: ', r2_score(y,y_pred))\n",
    "\n",
    "y_test_pred = knn.predict(X_test)\n",
    "print('Test Data Results')\n",
    "print(' Default settings')\n",
    "\n",
    "print('MAE is ', mean_absolute_error(y_test, y_test_pred))\n",
    "print('RMSE is ', np.sqrt(mean_squared_error(y_test, y_test_pred)))\n",
    "print('MSE is ', mean_squared_error(y_test, y_test_pred))\n",
    "print('R^2 ', r2_score(y_test,y_test_pred))"
   ]
  },
  {
   "cell_type": "markdown",
   "id": "a7445845-cc99-434e-8a6d-f3835e8b54b8",
   "metadata": {},
   "source": [
    "## Drilling further into selected algotithm\n"
   ]
  },
  {
   "cell_type": "code",
   "execution_count": 37,
   "id": "a74dc76f-781c-4d0e-aa21-ece5406e3930",
   "metadata": {},
   "outputs": [
    {
     "name": "stdout",
     "output_type": "stream",
     "text": [
      "[195, 'Test', 3.5858208955223883, 8.505485499493227, 72.34328358208955, 0.4083058964981846]\n"
     ]
    },
    {
     "data": {
      "text/html": [
       "<div>\n",
       "<style scoped>\n",
       "    .dataframe tbody tr th:only-of-type {\n",
       "        vertical-align: middle;\n",
       "    }\n",
       "\n",
       "    .dataframe tbody tr th {\n",
       "        vertical-align: top;\n",
       "    }\n",
       "\n",
       "    .dataframe thead th {\n",
       "        text-align: right;\n",
       "    }\n",
       "</style>\n",
       "<table border=\"1\" class=\"dataframe\">\n",
       "  <thead>\n",
       "    <tr style=\"text-align: right;\">\n",
       "      <th></th>\n",
       "      <th>Estimators</th>\n",
       "      <th>Train vs. Test</th>\n",
       "      <th>MAE</th>\n",
       "      <th>RMSE</th>\n",
       "      <th>MSE</th>\n",
       "      <th>R^2</th>\n",
       "    </tr>\n",
       "  </thead>\n",
       "  <tbody>\n",
       "    <tr>\n",
       "      <th>0</th>\n",
       "      <td>100</td>\n",
       "      <td>Train</td>\n",
       "      <td>1.053839</td>\n",
       "      <td>3.830992</td>\n",
       "      <td>14.676498</td>\n",
       "      <td>0.861422</td>\n",
       "    </tr>\n",
       "    <tr>\n",
       "      <th>1</th>\n",
       "      <td>100</td>\n",
       "      <td>Test</td>\n",
       "      <td>3.397388</td>\n",
       "      <td>8.177942</td>\n",
       "      <td>66.878731</td>\n",
       "      <td>0.439718</td>\n",
       "    </tr>\n",
       "    <tr>\n",
       "      <th>2</th>\n",
       "      <td>105</td>\n",
       "      <td>Train</td>\n",
       "      <td>1.046816</td>\n",
       "      <td>3.818077</td>\n",
       "      <td>14.577715</td>\n",
       "      <td>0.864773</td>\n",
       "    </tr>\n",
       "    <tr>\n",
       "      <th>3</th>\n",
       "      <td>105</td>\n",
       "      <td>Test</td>\n",
       "      <td>3.430970</td>\n",
       "      <td>8.269820</td>\n",
       "      <td>68.389925</td>\n",
       "      <td>0.441010</td>\n",
       "    </tr>\n",
       "    <tr>\n",
       "      <th>4</th>\n",
       "      <td>110</td>\n",
       "      <td>Train</td>\n",
       "      <td>1.051966</td>\n",
       "      <td>3.836853</td>\n",
       "      <td>14.721442</td>\n",
       "      <td>0.864644</td>\n",
       "    </tr>\n",
       "  </tbody>\n",
       "</table>\n",
       "</div>"
      ],
      "text/plain": [
       "   Estimators Train vs. Test       MAE      RMSE        MSE       R^2\n",
       "0         100          Train  1.053839  3.830992  14.676498  0.861422\n",
       "1         100           Test  3.397388  8.177942  66.878731  0.439718\n",
       "2         105          Train  1.046816  3.818077  14.577715  0.864773\n",
       "3         105           Test  3.430970  8.269820  68.389925  0.441010\n",
       "4         110          Train  1.051966  3.836853  14.721442  0.864644"
      ]
     },
     "execution_count": 37,
     "metadata": {},
     "output_type": "execute_result"
    }
   ],
   "source": [
    "\n",
    "X = train_set[['Type','CR', 'Size']]\n",
    "y = train_set[['AC', 'HP', 'STR', 'DEX', 'CON', 'INT', 'WIS', 'CHAR']]\n",
    "\n",
    "X_test = test_set[['Type','CR', 'Size']]\n",
    "y_test = test_set[['AC', 'HP', 'STR', 'DEX', 'CON', 'INT', 'WIS', 'CHAR']]\n",
    "\n",
    "results_df = pd.DataFrame(columns = ['Estimators', 'Train vs. Test', 'MAE', 'RMSE', 'MSE', 'R^2'])\n",
    "\n",
    "\n",
    "estimators = 100\n",
    "\n",
    "\n",
    "for x in range(20):\n",
    "    new_row = []\n",
    "\n",
    "\n",
    "    new_row.append(estimators) \n",
    "\n",
    "\n",
    "    rf_model = RandomForestClassifier(n_estimators=estimators)\n",
    "    rf_model.fit(X,y)\n",
    "\n",
    "    y_pred = rf_model.predict(X)\n",
    "\n",
    "    new_row.append('Train')\n",
    "    new_row.append(mean_absolute_error(y, y_pred))\n",
    "    new_row.append(np.sqrt(mean_squared_error(y, y_pred)))\n",
    "    new_row.append(mean_squared_error(y, y_pred))\n",
    "    new_row.append(r2_score(y,y_pred))\n",
    "    \n",
    "    results_df.loc[len(results_df)] = new_row\n",
    "    new_row = []\n",
    "    new_row.append(estimators)\n",
    "    \n",
    "    y_test_pred = rf_model.predict(X_test)\n",
    "\n",
    "    new_row.append('Test')\n",
    "    new_row.append(mean_absolute_error(y_test, y_test_pred))\n",
    "    new_row.append(np.sqrt(mean_squared_error(y_test, y_test_pred)))\n",
    "    new_row.append(mean_squared_error(y_test, y_test_pred))\n",
    "    new_row.append(r2_score(y_test,y_test_pred))\n",
    "\n",
    "\n",
    "\n",
    "    results_df.loc[len(results_df)] = new_row\n",
    "    estimators += 5\n",
    "\n",
    "\n",
    "\n",
    "\n",
    "\n",
    "\n",
    "\n",
    "print(new_row)\n",
    "results_df.head()"
   ]
  },
  {
   "cell_type": "code",
   "execution_count": 42,
   "id": "fb776104-f063-488c-b15a-124cb8f70398",
   "metadata": {},
   "outputs": [
    {
     "data": {
      "image/png": "[encoded data removed]",
      "text/plain": [
       "<Figure size 640x480 with 1 Axes>"
      ]
     },
     "metadata": {},
     "output_type": "display_data"
    }
   ],
   "source": [
    "RMSE_line = sns.lineplot(x=\"Estimators\", y = \"RMSE\", data=results_df, hue = \"Train vs. Test\")\n",
    "#type_bar.set_xticklabels(type_bar.get_xticklabels(), rotation=40, ha=\"right\")\n",
    "\n",
    "\n",
    "\n",
    "\n",
    "\n",
    "\n"
   ]
  },
  {
   "cell_type": "code",
   "execution_count": 41,
   "id": "1854e123-8466-4f39-84fc-584423012e7a",
   "metadata": {},
   "outputs": [
    {
     "data": {
      "image/png": "[encoded data removed]",
      "text/plain": [
       "<Figure size 640x480 with 1 Axes>"
      ]
     },
     "metadata": {},
     "output_type": "display_data"
    }
   ],
   "source": [
    "R2_line = sns.lineplot(x=\"Estimators\", y = \"R^2\", data=results_df, hue = \"Train vs. Test\")"
   ]
  },
  {
   "cell_type": "code",
   "execution_count": 43,
   "id": "9d317cf7-8d15-40ac-8e37-a9cbc1fd3ef7",
   "metadata": {},
   "outputs": [
    {
     "name": "stderr",
     "output_type": "stream",
     "text": [
      "C:\\Users\\gdalb\\AppData\\Local\\Temp\\ipykernel_7156\\3937216835.py:1: FutureWarning: In future versions `DataFrame.to_latex` is expected to utilise the base implementation of `Styler.to_latex` for formatting and rendering. The arguments signature may therefore change. It is recommended instead to use `DataFrame.style.to_latex` which also contains additional functionality.\n",
      "  results_df.to_latex()\n"
     ]
    },
    {
     "data": {
      "text/plain": [
       "'\\\\begin{tabular}{lrlrrrr}\\n\\\\toprule\\n{} &  Estimators & Train vs. Test &       MAE &      RMSE &        MSE &       R\\\\textasciicircum 2 \\\\\\\\\\n\\\\midrule\\n0  &         100 &          Train &  1.053839 &  3.830992 &  14.676498 &  0.861422 \\\\\\\\\\n1  &         100 &           Test &  3.397388 &  8.177942 &  66.878731 &  0.439718 \\\\\\\\\\n2  &         105 &          Train &  1.046816 &  3.818077 &  14.577715 &  0.864773 \\\\\\\\\\n3  &         105 &           Test &  3.430970 &  8.269820 &  68.389925 &  0.441010 \\\\\\\\\\n4  &         110 &          Train &  1.051966 &  3.836853 &  14.721442 &  0.864644 \\\\\\\\\\n5  &         110 &           Test &  3.339552 &  7.432281 &  55.238806 &  0.405421 \\\\\\\\\\n6  &         115 &          Train &  1.053371 &  3.896844 &  15.185393 &  0.871299 \\\\\\\\\\n7  &         115 &           Test &  3.544776 &  8.419948 &  70.895522 &  0.431092 \\\\\\\\\\n8  &         120 &          Train &  1.047285 &  3.832580 &  14.688670 &  0.865738 \\\\\\\\\\n9  &         120 &           Test &  3.570896 &  8.455767 &  71.500000 &  0.401155 \\\\\\\\\\n10 &         125 &          Train &  1.067884 &  3.927420 &  15.424625 &  0.867116 \\\\\\\\\\n11 &         125 &           Test &  3.371269 &  7.726312 &  59.695896 &  0.429610 \\\\\\\\\\n12 &         130 &          Train &  1.064607 &  3.877695 &  15.036517 &  0.862652 \\\\\\\\\\n13 &         130 &           Test &  3.486940 &  7.789560 &  60.677239 &  0.414978 \\\\\\\\\\n14 &         135 &          Train &  1.041199 &  3.828853 &  14.660112 &  0.866253 \\\\\\\\\\n15 &         135 &           Test &  3.442164 &  7.797938 &  60.807836 &  0.431671 \\\\\\\\\\n16 &         140 &          Train &  1.067884 &  3.915122 &  15.328184 &  0.866622 \\\\\\\\\\n17 &         140 &           Test &  3.654851 &  8.833979 &  78.039179 &  0.408000 \\\\\\\\\\n18 &         145 &          Train &  1.061330 &  3.843680 &  14.773876 &  0.860599 \\\\\\\\\\n19 &         145 &           Test &  3.511194 &  8.403535 &  70.619403 &  0.417026 \\\\\\\\\\n20 &         150 &          Train &  1.041199 &  3.833130 &  14.692884 &  0.869113 \\\\\\\\\\n21 &         150 &           Test &  3.354478 &  7.566620 &  57.253731 &  0.419278 \\\\\\\\\\n22 &         155 &          Train &  1.048689 &  3.822367 &  14.610487 &  0.863692 \\\\\\\\\\n23 &         155 &           Test &  3.486940 &  7.858710 &  61.759328 &  0.411791 \\\\\\\\\\n24 &         160 &          Train &  1.051030 &  3.825489 &  14.634363 &  0.863746 \\\\\\\\\\n25 &         160 &           Test &  3.419776 &  8.274105 &  68.460821 &  0.428383 \\\\\\\\\\n26 &         165 &          Train &  1.046348 &  3.826223 &  14.639981 &  0.864169 \\\\\\\\\\n27 &         165 &           Test &  3.375000 &  7.517517 &  56.513060 &  0.416141 \\\\\\\\\\n28 &         170 &          Train &  1.058521 &  3.836731 &  14.720506 &  0.863366 \\\\\\\\\\n29 &         170 &           Test &  3.535448 &  8.261243 &  68.248134 &  0.363912 \\\\\\\\\\n30 &         175 &          Train &  1.066479 &  3.889147 &  15.125468 &  0.857562 \\\\\\\\\\n31 &         175 &           Test &  3.423507 &  8.284922 &  68.639925 &  0.416399 \\\\\\\\\\n32 &         180 &          Train &  1.066479 &  3.910875 &  15.294944 &  0.863358 \\\\\\\\\\n33 &         180 &           Test &  3.511194 &  8.331517 &  69.414179 &  0.416939 \\\\\\\\\\n34 &         185 &          Train &  1.046816 &  3.832763 &  14.690075 &  0.862177 \\\\\\\\\\n35 &         185 &           Test &  3.500000 &  7.916542 &  62.671642 &  0.404401 \\\\\\\\\\n36 &         190 &          Train &  1.056648 &  3.855477 &  14.864700 &  0.864409 \\\\\\\\\\n37 &         190 &           Test &  3.567164 &  8.041868 &  64.671642 &  0.393729 \\\\\\\\\\n38 &         195 &          Train &  1.083333 &  3.932483 &  15.464419 &  0.857480 \\\\\\\\\\n39 &         195 &           Test &  3.585821 &  8.505485 &  72.343284 &  0.408306 \\\\\\\\\\n\\\\bottomrule\\n\\\\end{tabular}\\n'"
      ]
     },
     "execution_count": 43,
     "metadata": {},
     "output_type": "execute_result"
    }
   ],
   "source": [
    "results_df.to_latex()"
   ]
  },
  {
   "cell_type": "code",
   "execution_count": null,
   "id": "11d8d452-b291-45f9-b5a5-9b24cc82ec3a",
   "metadata": {},
   "outputs": [],
   "source": []
  }
 ],
 "metadata": {
  "kernelspec": {
   "display_name": "Python 3 (ipykernel)",
   "language": "python",
   "name": "python3"
  },
  "language_info": {
   "codemirror_mode": {
    "name": "ipython",
    "version": 3
   },
   "file_extension": ".py",
   "mimetype": "text/x-python",
   "name": "python",
   "nbconvert_exporter": "python",
   "pygments_lexer": "ipython3",
   "version": "3.9.12"
  }
 },
 "nbformat": 4,
 "nbformat_minor": 5
}
